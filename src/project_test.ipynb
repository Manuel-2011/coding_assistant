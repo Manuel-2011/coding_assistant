{
 "cells": [
  {
   "cell_type": "code",
   "execution_count": 14,
   "metadata": {},
   "outputs": [],
   "source": [
    "from langchain.document_loaders import DirectoryLoader, TextLoader\n",
    "from langchain.embeddings import OpenAIEmbeddings"
   ]
  },
  {
   "attachments": {},
   "cell_type": "markdown",
   "metadata": {},
   "source": [
    "## Load the documents"
   ]
  },
  {
   "cell_type": "code",
   "execution_count": 11,
   "metadata": {},
   "outputs": [
    {
     "data": {
      "text/plain": [
       "[PosixPath('/Users/manuel.mosquera/Documents/projects/mercado_libre_project/src/components/searchBar/index.tsx'),\n",
       " PosixPath('/Users/manuel.mosquera/Documents/projects/mercado_libre_project/src/components/searchBar/searchBar.test.tsx'),\n",
       " PosixPath('/Users/manuel.mosquera/Documents/projects/mercado_libre_project/src/components/productsList/index.tsx'),\n",
       " PosixPath('/Users/manuel.mosquera/Documents/projects/mercado_libre_project/src/components/productsList/productsList.test.tsx'),\n",
       " PosixPath('/Users/manuel.mosquera/Documents/projects/mercado_libre_project/src/components/productDetail/index.tsx'),\n",
       " PosixPath('/Users/manuel.mosquera/Documents/projects/mercado_libre_project/src/components/productDetail/productDetail.test.tsx'),\n",
       " PosixPath('/Users/manuel.mosquera/Documents/projects/mercado_libre_project/src/components/breadcrumb/index.tsx'),\n",
       " PosixPath('/Users/manuel.mosquera/Documents/projects/mercado_libre_project/src/components/breadcrumb/breadcrumb.test.tsx'),\n",
       " PosixPath('/Users/manuel.mosquera/Documents/projects/mercado_libre_project/src/common/icons/search.tsx'),\n",
       " PosixPath('/Users/manuel.mosquera/Documents/projects/mercado_libre_project/src/pages/index.tsx'),\n",
       " PosixPath('/Users/manuel.mosquera/Documents/projects/mercado_libre_project/src/pages/items.tsx'),\n",
       " PosixPath('/Users/manuel.mosquera/Documents/projects/mercado_libre_project/src/pages/_document.tsx'),\n",
       " PosixPath('/Users/manuel.mosquera/Documents/projects/mercado_libre_project/src/pages/_app.tsx'),\n",
       " PosixPath('/Users/manuel.mosquera/Documents/projects/mercado_libre_project/src/pages/api/items.tsx'),\n",
       " PosixPath('/Users/manuel.mosquera/Documents/projects/mercado_libre_project/src/pages/api/items/[id].tsx'),\n",
       " PosixPath('/Users/manuel.mosquera/Documents/projects/mercado_libre_project/src/pages/items/[id].tsx')]"
      ]
     },
     "execution_count": 11,
     "metadata": {},
     "output_type": "execute_result"
    }
   ],
   "source": [
    "import pathlib\n",
    "\n",
    "p = pathlib.Path('/Users/manuel.mosquera/Documents/projects/mercado_libre_project')\n",
    "list(p.glob('**/*.tsx'))"
   ]
  },
  {
   "cell_type": "code",
   "execution_count": 28,
   "metadata": {},
   "outputs": [],
   "source": [
    "directory_path = '/Users/manuel.mosquera/Documents/projects/mercado_libre_project'\n",
    "loader = DirectoryLoader(directory_path, loader_cls=TextLoader, glob='**/*.tsx')\n",
    "docs = loader.load()"
   ]
  },
  {
   "cell_type": "code",
   "execution_count": 29,
   "metadata": {},
   "outputs": [
    {
     "data": {
      "text/plain": [
       "16"
      ]
     },
     "execution_count": 29,
     "metadata": {},
     "output_type": "execute_result"
    }
   ],
   "source": [
    "len(docs)"
   ]
  },
  {
   "cell_type": "code",
   "execution_count": 30,
   "metadata": {},
   "outputs": [
    {
     "name": "stdout",
     "output_type": "stream",
     "text": [
      "import { useState, FC, SyntheticEvent } from \"react\";\n",
      "import Image from \"next/image\";\n",
      "import SearchIcon from \"../../common/icons/search\";\n",
      "\n",
      "import styles from \"./searchBar.styles.module.scss\";\n",
      "\n",
      "interface Props {\n",
      "  placeholder?: string;\n",
      "  onClick(val: string): void;\n",
      "}\n",
      "\n",
      "const SearchBar: FC<Props> = ({ placeholder, onClick }) => {\n",
      "  const [search, setSearch] = useState(\"\");\n",
      "\n",
      "  const handleSubmit = (event: SyntheticEvent) => {\n",
      "    event.preventDefault();\n",
      "    onClick(search);\n",
      "  };\n",
      "\n",
      "  return (\n",
      "    <header className={styles.container}>\n",
      "      <Image\n",
      "        data-testid=\"logo\"\n",
      "        src=\"/images/mercado-libre-logo.png\"\n",
      "        alt=\"Mercado libre logo\"\n",
      "        width=\"90\"\n",
      "        height=\"90\"\n",
      "      />\n",
      "      <form\n",
      "        className={styles.searchForm}\n",
      "        onSubmit={handleSubmit}\n",
      "        data-testid=\"form\"\n",
      "      >\n",
      "        <input\n",
      "          className={styles.searchInput}\n",
      "          placeholder={placeholder}\n",
      "          value={search}\n",
      "          onChange={(e) => setSearch(e.target.value)}\n",
      "          data-testid=\"search-input\"\n",
      "        />\n",
      "        <button\n",
      "          className={styles.searchSubmit}\n",
      "          type=\"submit\"\n",
      "          aria-label=\"search\"\n",
      "        >\n",
      "          <SearchIcon />\n",
      "        </button>\n",
      "      </form>\n",
      "    </header>\n",
      "  );\n",
      "};\n",
      "\n",
      "SearchBar.defaultProps = {\n",
      "  placeholder: \"Busca...\",\n",
      "};\n",
      "\n",
      "export default SearchBar;\n",
      "\n"
     ]
    }
   ],
   "source": [
    "print(docs[0].page_content)"
   ]
  },
  {
   "cell_type": "code",
   "execution_count": 40,
   "metadata": {},
   "outputs": [],
   "source": [
    "import re\n",
    "\n",
    "preprocess_docs = [{'file': doc.page_content, 'file_path': re.match(directory_path + r'\\/(.*)', doc.metadata['source']).group(1) } for doc in docs if doc.page_content is not None]"
   ]
  },
  {
   "cell_type": "code",
   "execution_count": 41,
   "metadata": {},
   "outputs": [
    {
     "name": "stdout",
     "output_type": "stream",
     "text": [
      "src/components/searchBar/index.tsx\n",
      "src/components/searchBar/searchBar.test.tsx\n",
      "src/components/productsList/index.tsx\n",
      "src/components/productsList/productsList.test.tsx\n",
      "src/components/productDetail/index.tsx\n",
      "src/components/productDetail/productDetail.test.tsx\n",
      "src/components/breadcrumb/index.tsx\n",
      "src/components/breadcrumb/breadcrumb.test.tsx\n",
      "src/common/icons/search.tsx\n",
      "src/pages/index.tsx\n",
      "src/pages/items.tsx\n",
      "src/pages/_document.tsx\n",
      "src/pages/_app.tsx\n",
      "src/pages/api/items.tsx\n",
      "src/pages/api/items/[id].tsx\n",
      "src/pages/items/[id].tsx\n"
     ]
    }
   ],
   "source": [
    "for p in preprocess_docs:\n",
    "  print(p['file_path'])"
   ]
  },
  {
   "attachments": {},
   "cell_type": "markdown",
   "metadata": {},
   "source": [
    "## Generate a document description"
   ]
  },
  {
   "cell_type": "code",
   "execution_count": 77,
   "metadata": {},
   "outputs": [],
   "source": [
    "from langchain import PromptTemplate, OpenAI, LLMChain\n",
    "\n",
    "prompt_template = \"What is the purpose of the following file in a project?\\nGive me a detail description of the file \\nfile path: {file_path} \\nfile content: {file}\"\n",
    "\n",
    "llm = OpenAI(temperature=0.7)\n",
    "llm_chain = LLMChain(\n",
    "    llm=llm,\n",
    "    prompt=PromptTemplate.from_template(prompt_template)\n",
    ")\n",
    "files_description = llm_chain.apply(preprocess_docs)"
   ]
  },
  {
   "cell_type": "code",
   "execution_count": 78,
   "metadata": {},
   "outputs": [
    {
     "data": {
      "text/plain": [
       "16"
      ]
     },
     "execution_count": 78,
     "metadata": {},
     "output_type": "execute_result"
    }
   ],
   "source": [
    "len(files_description)"
   ]
  },
  {
   "cell_type": "code",
   "execution_count": 79,
   "metadata": {},
   "outputs": [
    {
     "name": "stdout",
     "output_type": "stream",
     "text": [
      "\n",
      "The file src/components/searchBar/index.tsx is a React component that provides the user with a search bar. It has a logo, input field, and search button. It allows the user to enter a search query in the input field and then submit the query (by pressing the search button or by hitting enter on the keyboard). When the user submits the query, the onClick function is called, which can be used to trigger an API call to fetch data based on the query. The component also has a default placeholder text that can be overridden by passing in a placeholder prop.\n"
     ]
    }
   ],
   "source": [
    "print(files_description[0]['text'])"
   ]
  },
  {
   "attachments": {},
   "cell_type": "markdown",
   "metadata": {},
   "source": [
    "## Create an embedding with the description"
   ]
  },
  {
   "cell_type": "code",
   "execution_count": 80,
   "metadata": {},
   "outputs": [],
   "source": [
    "desciptions_to_embed =  [f'File path: {preprocess_docs[i][\"file_path\"]}\\nFile description: {files_description[i][\"text\"]}' for i in range(len(files_description))]"
   ]
  },
  {
   "cell_type": "code",
   "execution_count": 81,
   "metadata": {},
   "outputs": [
    {
     "name": "stdout",
     "output_type": "stream",
     "text": [
      "File path: src/components/searchBar/index.tsx\n",
      "File description: \n",
      "The file src/components/searchBar/index.tsx is a React component that provides the user with a search bar. It has a logo, input field, and search button. It allows the user to enter a search query in the input field and then submit the query (by pressing the search button or by hitting enter on the keyboard). When the user submits the query, the onClick function is called, which can be used to trigger an API call to fetch data based on the query. The component also has a default placeholder text that can be overridden by passing in a placeholder prop.\n"
     ]
    }
   ],
   "source": [
    "print(desciptions_to_embed[0])"
   ]
  },
  {
   "cell_type": "code",
   "execution_count": 82,
   "metadata": {},
   "outputs": [],
   "source": [
    "embeddings_model = OpenAIEmbeddings(disallowed_special=set([]))"
   ]
  },
  {
   "attachments": {},
   "cell_type": "markdown",
   "metadata": {},
   "source": [
    "## Create the vector store"
   ]
  },
  {
   "cell_type": "code",
   "execution_count": 83,
   "metadata": {},
   "outputs": [],
   "source": [
    "from langchain.vectorstores import FAISS\n",
    "\n",
    "\n",
    "db = FAISS.from_texts(desciptions_to_embed, embeddings_model)"
   ]
  },
  {
   "attachments": {},
   "cell_type": "markdown",
   "metadata": {},
   "source": [
    "## Create the steps to solve a task"
   ]
  },
  {
   "cell_type": "code",
   "execution_count": 84,
   "metadata": {},
   "outputs": [],
   "source": [
    "task = \"Add a pagination feature to the items list, listing 2 items per page.\""
   ]
  },
  {
   "cell_type": "code",
   "execution_count": 85,
   "metadata": {},
   "outputs": [],
   "source": [
    "retriever = db.as_retriever()"
   ]
  },
  {
   "cell_type": "code",
   "execution_count": 86,
   "metadata": {},
   "outputs": [],
   "source": [
    "relevant_docs = retriever.get_relevant_documents(task)"
   ]
  },
  {
   "cell_type": "code",
   "execution_count": 87,
   "metadata": {},
   "outputs": [],
   "source": [
    "most_relevant_docs = relevant_docs[:5]"
   ]
  },
  {
   "cell_type": "code",
   "execution_count": 88,
   "metadata": {},
   "outputs": [],
   "source": [
    "most_relevant_docs = '\\n\\n'.join([file.page_content for file in most_relevant_docs])"
   ]
  },
  {
   "cell_type": "code",
   "execution_count": 89,
   "metadata": {},
   "outputs": [
    {
     "name": "stdout",
     "output_type": "stream",
     "text": [
      "File path: src/pages/items.tsx\n",
      "File description: \n",
      "This file is a React component that is used to display a list of items. The component uses the Next.js framework to render content on the server-side, as well as to access the router and head components for SEO purposes. It imports the items.tsx file from the api folder, which contains the response from the server with the items that match the search query. It also imports components such as Breadcrumb, ProductsList, and Head to render the list of items along with the search query, categories filter, and SEO information. The component also uses the useCallback hook to set up a callback function to handle the click event on the breadcrumbs, which will update the URL query parameters with the selected category.\n",
      "\n",
      "File path: src/pages/api/items.tsx\n",
      "File description: \n",
      "The src/pages/api/items.tsx file is an API endpoint for a project. The endpoint is responsible for fetching data from the Mercado Libre API and returning the response as a JSON object. The file defines two interfaces (Response and Error) and a default async function handler that is responsible for making the API call and parsing the response. The handler takes two query parameters (q and category) and uses them to make the API call. It also parses the response into an object that matches the Response interface structure and returns it to the caller. Finally, the Error interface is used to return an error object if there is an issue with the API call.\n",
      "\n",
      "File path: src/pages/items/[id].tsx\n",
      "File description: \n",
      "This file is a React component used to render a page with detailed information about a product. It is located in the \"src/pages/items\" directory, with a file path of \"src/pages/items/[id].tsx\". This file contains code that imports react, a response and error from the api/items/[id] file, a ProductDetail component, a Breadcrumb component, and a server config. It also has an interface for props that includes data as a response or an error. The file also contains a function called \"addProductJsonLd\", which adds a json-ld format with the product title, image, description, sku, and offers like price currency, price, and item condition to the head. The file also contains a React component that renders the breadcrumb, product detail, and the json-ld format. Finally, the file also contains a function to get server side props that includes an id and fetches the api/items/[id] file, which is then used as a data prop.\n",
      "\n",
      "File path: src/pages/api/items/[id].tsx\n",
      "File description: \n",
      "This file is a handler for the API route 'src/pages/api/items/[id]'.tsx. It is used to handle requests for information about a particular item. The handler fetches data from the Mercado Libre API and formats it into a response object containing the author of the request, the item's id, title, price, picture, condition, shipping status, sold quantity, and description. It also fetches the item's category from the API and adds it to the response object. The handler returns a status of 200 and the formatted response object.\n"
     ]
    }
   ],
   "source": [
    "print(most_relevant_docs)"
   ]
  },
  {
   "cell_type": "code",
   "execution_count": 92,
   "metadata": {},
   "outputs": [],
   "source": [
    "import openai\n",
    "import os\n",
    "\n",
    "# Load your API key from an environment variable or secret management service\n",
    "openai.api_key = os.getenv(\"OPENAI_API_KEY\")"
   ]
  },
  {
   "cell_type": "code",
   "execution_count": 93,
   "metadata": {},
   "outputs": [],
   "source": [
    "chat_plan = openai.ChatCompletion.create(model=\"gpt-3.5-turbo\", messages=[{\"role\": \"user\", \"content\": f\"Give me a detailed description of how I can accomplish the following task: {task}. This is some information of the files where I will be working: {most_relevant_docs}\"}])"
   ]
  },
  {
   "cell_type": "code",
   "execution_count": 94,
   "metadata": {},
   "outputs": [
    {
     "name": "stdout",
     "output_type": "stream",
     "text": [
      "To add a pagination feature to the items list in the \"src/pages/items.tsx\" file, follow these steps:\n",
      "\n",
      "1. Import the necessary components and libraries:\n",
      "   - Import the Pagination component from the library or create a custom Pagination component.\n",
      "   - Import the useState and useEffect hooks from React.\n",
      "\n",
      "2. Set up the necessary state variables:\n",
      "   - Declare a state variable \"currentPage\" to store the current page number. Initialize it with 1.\n",
      "   - Declare a state variable \"itemsPerPage\" to store the number of items per page. Initialize it with 2.\n",
      "   - Declare a state variable \"totalItems\" to store the total number of items in the list. Initialize it with the length of the items list.\n",
      "\n",
      "3. Calculate the necessary values:\n",
      "   - Calculate the total number of pages by dividing the total number of items by the number of items per page. Use the Math.ceil() function to round up to the nearest whole number.\n",
      "   - Calculate the index of the first item on the current page by subtracting 1 from the current page number and multiplying it by the number of items per page.\n",
      "   - Calculate the index of the last item on the current page by adding the index of the first item to the number of items per page minus 1.\n",
      "\n",
      "4. Update the items list to display only the items on the current page:\n",
      "   - Use the slice() method on the items list to extract the items from the index of the first item to the index of the last item. Assign the result to a new array variable, e.g., \"displayedItems\".\n",
      "\n",
      "5. Update the JSX code to display the pagination feature:\n",
      "   - Place the Pagination component below the items list.\n",
      "   - Pass the following props to the Pagination component:\n",
      "     - currentPage: The current page number.\n",
      "     - totalPages: The total number of pages.\n",
      "     - onPageChange: A callback function to handle page changes.\n",
      "   - In the callback function, update the currentPage state variable to the selected page number.\n",
      "\n",
      "6. Implement the onPageChange function:\n",
      "   - Update the currentPage state variable with the selected page number.\n",
      "   - Scroll to the top of the page after changing the page to improve user experience.\n",
      "\n",
      "The final code would look something like this:\n",
      "\n",
      "```jsx\n",
      "import React, { useState, useEffect } from 'react';\n",
      "import Pagination from 'pagination-library';\n",
      "\n",
      "const Items = () => {\n",
      "  const itemsPerPage = 2;\n",
      "  const [currentPage, setCurrentPage] = useState(1);\n",
      "  const [totalItems, setTotalItems] = useState(items.length);\n",
      "\n",
      "  useEffect(() => {\n",
      "    setTotalItems(items.length);\n",
      "  }, [items]);\n",
      "\n",
      "  const totalPages = Math.ceil(totalItems / itemsPerPage);\n",
      "  const indexOfLastItem = currentPage * itemsPerPage;\n",
      "  const indexOfFirstItem = indexOfLastItem - itemsPerPage;\n",
      "  const displayedItems = items.slice(indexOfFirstItem, indexOfLastItem);\n",
      "\n",
      "  const handlePageChange = (pageNumber) => {\n",
      "    setCurrentPage(pageNumber);\n",
      "    window.scrollTo(0, 0);\n",
      "  };\n",
      "\n",
      "  return (\n",
      "    <div>\n",
      "      {/* Render the displayedItems */}\n",
      "      <ul>\n",
      "        {displayedItems.map((item) => (\n",
      "          <li key={item.id}>{item.name}</li>\n",
      "        ))}\n",
      "      </ul>\n",
      "\n",
      "      {/* Render the Pagination component */}\n",
      "      <Pagination\n",
      "        currentPage={currentPage}\n",
      "        totalPages={totalPages}\n",
      "        onPageChange={handlePageChange}\n",
      "      />\n",
      "    </div>\n",
      "  );\n",
      "};\n",
      "\n",
      "export default Items;\n",
      "```\n",
      "\n",
      "Please note that the code provided is a general outline and may need to be adapted to your specific project structure and requirements.\n"
     ]
    }
   ],
   "source": [
    "print(chat_plan.choices[0].message.content)"
   ]
  },
  {
   "cell_type": "code",
   "execution_count": null,
   "metadata": {},
   "outputs": [],
   "source": []
  }
 ],
 "metadata": {
  "kernelspec": {
   "display_name": "venv",
   "language": "python",
   "name": "python3"
  },
  "language_info": {
   "codemirror_mode": {
    "name": "ipython",
    "version": 3
   },
   "file_extension": ".py",
   "mimetype": "text/x-python",
   "name": "python",
   "nbconvert_exporter": "python",
   "pygments_lexer": "ipython3",
   "version": "3.10.6"
  },
  "orig_nbformat": 4
 },
 "nbformat": 4,
 "nbformat_minor": 2
}
