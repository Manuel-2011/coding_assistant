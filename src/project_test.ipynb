{
 "cells": [
  {
   "cell_type": "code",
   "execution_count": 1,
   "metadata": {},
   "outputs": [],
   "source": [
    "from langchain.document_loaders import DirectoryLoader, TextLoader\n",
    "from langchain.embeddings import OpenAIEmbeddings"
   ]
  },
  {
   "attachments": {},
   "cell_type": "markdown",
   "metadata": {},
   "source": [
    "## Load the documents"
   ]
  },
  {
   "cell_type": "code",
   "execution_count": 2,
   "metadata": {},
   "outputs": [],
   "source": [
    "loader = DirectoryLoader('../test_files', loader_cls=TextLoader)\n",
    "docs = loader.load()"
   ]
  },
  {
   "cell_type": "code",
   "execution_count": 3,
   "metadata": {},
   "outputs": [
    {
     "data": {
      "text/plain": [
       "'import { FC, useCallback } from \"react\";\\nimport { Response, Error } from \"./api/items\";\\nimport Breadcrumb from \"../components/breadcrumb\";\\nimport ProductsList from \"../components/productsList\";\\nimport { server } from \"../../config\";\\nimport { useRouter } from \"next/router\";\\nimport Head from \"next/head\";\\n\\ninterface Props {\\n  data: Response | Error;\\n  search: string;\\n}\\n\\nconst Items: FC<Props> = ({ data, search }) => {\\n  const router = useRouter();\\n\\n  if (\"error\" in data) {\\n    return <h1>There was an error</h1>;\\n  }\\n\\n  const handleClick = useCallback(\\n    (categoryName) => {\\n      const selectedCategory = data.categories_filter.find(\\n        (category) => category.name === categoryName\\n      );\\n      if (selectedCategory) {\\n        router.push(`/items?search=${search}&category=${selectedCategory.id}`);\\n      }\\n    },\\n    [data, router]\\n  );\\n\\n  return (\\n    <>\\n      {search && (\\n        <Head>\\n          <title>{search} | Mercado Libre</title>\\n          <meta\\n            name=\"description\"\\n            content={`Listado de productos para la busqueda: ${search}.`}\\n          />\\n        </Head>\\n      )}\\n      <Breadcrumb items={data.categories} handleClick={handleClick} />\\n      <ProductsList data={data} />\\n    </>\\n  );\\n};\\n\\nexport default Items;\\n\\nexport async function getServerSideProps({ query }) {\\n  const { search, category } = query;\\n  const categoryFilter = category ? `&category=${category}` : \"\";\\n  const res = await fetch(`${server}/api/items?q=${search}${categoryFilter}`);\\n  const data: Promise<Response | Error> = await res.json();\\n\\n  return {\\n    props: {\\n      data,\\n      search,\\n    },\\n  };\\n}\\n'"
      ]
     },
     "execution_count": 3,
     "metadata": {},
     "output_type": "execute_result"
    }
   ],
   "source": [
    "docs[0].page_content"
   ]
  },
  {
   "attachments": {},
   "cell_type": "markdown",
   "metadata": {},
   "source": [
    "## Generate a document description"
   ]
  },
  {
   "cell_type": "code",
   "execution_count": 17,
   "metadata": {},
   "outputs": [],
   "source": [
    "import os\n",
    "import openai\n",
    "\n",
    "# Load your API key from an environment variable or secret management service\n",
    "openai.api_key = os.getenv(\"OPENAI_API_KEY\")\n",
    "\n",
    "chat_completion = openai.ChatCompletion.create(model=\"gpt-3.5-turbo\", messages=[{\"role\": \"user\", \"content\": f\"What is the purpose of the following file in a project? {docs[0].page_content}\"}])"
   ]
  },
  {
   "cell_type": "code",
   "execution_count": 51,
   "metadata": {},
   "outputs": [
    {
     "name": "stdout",
     "output_type": "stream",
     "text": [
      "The purpose of this file is to render a page that displays a list of products based on a search query and category. \n",
      "\n",
      "- The file imports necessary components and libraries from React and Next.js.\n",
      "- It defines the Props interface for the component. The Props interface includes the data and search properties, which are used to display the search results and the search query.\n",
      "- The component, Items, is defined as a functional component that takes in the Props interface as its argument. Inside the component, the useRouter hook is used to access the current router object.\n",
      "- If the \"error\" property exists in the data object, it returns an error message.\n",
      "- The handleClick function is defined using the useCallback hook. It takes in a categoryName argument and finds the corresponding category in the data object. If the category is found, it updates the search query and category in the URL using router.push.\n",
      "- The component returns a title and meta description for SEO purposes if there is a search query provided. It also renders the Breadcrumb and ProductsList components, passing in the necessary data.\n",
      "- The file also exports a getServerSideProps function, which is used to fetch the necessary data from an API. It takes in the query object from the context and extracts the search and category values. It then makes a request to the server API endpoint with the search and category as query parameters. The response is parsed as JSON and returned as the data prop along with the search prop in the getServerSideProps function's return statement.\n"
     ]
    }
   ],
   "source": [
    "doc_description = chat_completion.choices[0].message.content\n",
    "print(doc_description)"
   ]
  },
  {
   "attachments": {},
   "cell_type": "markdown",
   "metadata": {},
   "source": [
    "## Create an embedding with the description"
   ]
  },
  {
   "cell_type": "code",
   "execution_count": 30,
   "metadata": {},
   "outputs": [
    {
     "data": {
      "text/plain": [
       "(1, 1536)"
      ]
     },
     "execution_count": 30,
     "metadata": {},
     "output_type": "execute_result"
    }
   ],
   "source": [
    "embeddings_model = OpenAIEmbeddings(disallowed_special=set([]))\n",
    "embeddings = embeddings_model.embed_documents(\n",
    "    [doc_description],\n",
    ")\n",
    "len(embeddings), len(embeddings[0])"
   ]
  },
  {
   "cell_type": "code",
   "execution_count": 32,
   "metadata": {},
   "outputs": [],
   "source": [
    "description_embedding = embeddings[0]"
   ]
  },
  {
   "attachments": {},
   "cell_type": "markdown",
   "metadata": {},
   "source": [
    "## Create the vector store"
   ]
  },
  {
   "cell_type": "code",
   "execution_count": 39,
   "metadata": {},
   "outputs": [],
   "source": [
    "from langchain.vectorstores import FAISS\n",
    "\n",
    "\n",
    "db = FAISS.from_texts([doc_description], embeddings_model)"
   ]
  },
  {
   "attachments": {},
   "cell_type": "markdown",
   "metadata": {},
   "source": [
    "## Create the steps to solve a task"
   ]
  },
  {
   "cell_type": "code",
   "execution_count": 33,
   "metadata": {},
   "outputs": [],
   "source": [
    "task = \"Add a pagination feature to the items list, listing 2 items per page.\""
   ]
  },
  {
   "cell_type": "code",
   "execution_count": 41,
   "metadata": {},
   "outputs": [],
   "source": [
    "retriever = db.as_retriever()"
   ]
  },
  {
   "cell_type": "code",
   "execution_count": 42,
   "metadata": {},
   "outputs": [],
   "source": [
    "relevant_docs = retriever.get_relevant_documents(task)"
   ]
  },
  {
   "cell_type": "code",
   "execution_count": 46,
   "metadata": {},
   "outputs": [],
   "source": [
    "most_relevant = relevant_docs[0]"
   ]
  },
  {
   "cell_type": "code",
   "execution_count": 47,
   "metadata": {},
   "outputs": [],
   "source": [
    "chat_plan = openai.ChatCompletion.create(model=\"gpt-3.5-turbo\", messages=[{\"role\": \"user\", \"content\": f\"Give me a detailed description of how I can accomplish the following task: {task}. This is the description of the file where I will be working: {most_relevant}\"}])"
   ]
  },
  {
   "cell_type": "code",
   "execution_count": 50,
   "metadata": {},
   "outputs": [
    {
     "name": "stdout",
     "output_type": "stream",
     "text": [
      "To add a pagination feature to the items list with 2 items per page, you can follow these steps:\n",
      "\n",
      "1. Declare the necessary state variables in the functional component:\n",
      "\n",
      "```jsx\n",
      "const [currentPage, setCurrentPage] = useState(1);\n",
      "const itemsPerPage = 2;\n",
      "```\n",
      "\n",
      "2. Modify the rendering logic of the Items component to display the items based on the current page:\n",
      "\n",
      "```jsx\n",
      "const indexOfLastItem = currentPage * itemsPerPage;\n",
      "const indexOfFirstItem = indexOfLastItem - itemsPerPage;\n",
      "const currentItems = data.slice(indexOfFirstItem, indexOfLastItem); // Assuming data is an array of items\n",
      "\n",
      "return (\n",
      "  // Render the items in the currentItems array\n",
      ");\n",
      "```\n",
      "\n",
      "3. Render pagination buttons to allow the user to navigate between pages:\n",
      "\n",
      "```jsx\n",
      "const totalPages = Math.ceil(data.length / itemsPerPage);\n",
      "\n",
      "const handlePageChange = (pageNumber) => {\n",
      "  setCurrentPage(pageNumber);\n",
      "};\n",
      "\n",
      "return (\n",
      "  // Render the items\n",
      "  // Render pagination buttons\n",
      ");\n",
      "```\n",
      "\n",
      "4. Define a helper function to generate the pagination buttons:\n",
      "\n",
      "```jsx\n",
      "const renderPageNumbers = () => {\n",
      "  const pageNumbers = [];\n",
      "\n",
      "  for (let i = 1; i <= totalPages; i++) {\n",
      "    pageNumbers.push(\n",
      "      <button key={i} onClick={() => handlePageChange(i)}>\n",
      "        {i}\n",
      "      </button>\n",
      "    );\n",
      "  }\n",
      "\n",
      "  return pageNumbers;\n",
      "};\n",
      "```\n",
      "\n",
      "5. Display the pagination buttons in the component's return statement:\n",
      "\n",
      "```jsx\n",
      "return (\n",
      "  // Render the items\n",
      "  {renderPageNumbers()}\n",
      ");\n",
      "```\n",
      "\n",
      "With these modifications, the Items component will display the desired number of items per page and provide pagination buttons for navigation.\n"
     ]
    }
   ],
   "source": [
    "print(chat_plan.choices[0].message.content)"
   ]
  },
  {
   "cell_type": "code",
   "execution_count": null,
   "metadata": {},
   "outputs": [],
   "source": []
  }
 ],
 "metadata": {
  "kernelspec": {
   "display_name": "venv",
   "language": "python",
   "name": "python3"
  },
  "language_info": {
   "codemirror_mode": {
    "name": "ipython",
    "version": 3
   },
   "file_extension": ".py",
   "mimetype": "text/x-python",
   "name": "python",
   "nbconvert_exporter": "python",
   "pygments_lexer": "ipython3",
   "version": "3.10.6"
  },
  "orig_nbformat": 4
 },
 "nbformat": 4,
 "nbformat_minor": 2
}
