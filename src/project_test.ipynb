{
 "cells": [
  {
   "cell_type": "code",
   "execution_count": 1,
   "metadata": {},
   "outputs": [],
   "source": [
    "from langchain.document_loaders.text import TextLoader\n",
    "from langchain.document_loaders.directory import DirectoryLoader\n",
    "from langchain.embeddings.openai import OpenAIEmbeddings"
   ]
  },
  {
   "attachments": {},
   "cell_type": "markdown",
   "metadata": {},
   "source": [
    "## Load the documents"
   ]
  },
  {
   "cell_type": "code",
   "execution_count": 2,
   "metadata": {},
   "outputs": [
    {
     "data": {
      "text/plain": [
       "[PosixPath('/Users/manuel.mosquera/Documents/projects/mercado_libre_project/src/components/searchBar/index.tsx'),\n",
       " PosixPath('/Users/manuel.mosquera/Documents/projects/mercado_libre_project/src/components/searchBar/searchBar.test.tsx'),\n",
       " PosixPath('/Users/manuel.mosquera/Documents/projects/mercado_libre_project/src/components/searchBar/searchBar.styles.module.scss'),\n",
       " PosixPath('/Users/manuel.mosquera/Documents/projects/mercado_libre_project/src/components/productsList/index.tsx'),\n",
       " PosixPath('/Users/manuel.mosquera/Documents/projects/mercado_libre_project/src/components/productsList/productsList.styles.module.scss'),\n",
       " PosixPath('/Users/manuel.mosquera/Documents/projects/mercado_libre_project/src/components/productsList/productsList.test.tsx'),\n",
       " PosixPath('/Users/manuel.mosquera/Documents/projects/mercado_libre_project/src/components/productDetail/index.tsx'),\n",
       " PosixPath('/Users/manuel.mosquera/Documents/projects/mercado_libre_project/src/components/productDetail/productDetail.styles.module.scss'),\n",
       " PosixPath('/Users/manuel.mosquera/Documents/projects/mercado_libre_project/src/components/productDetail/productDetail.test.tsx'),\n",
       " PosixPath('/Users/manuel.mosquera/Documents/projects/mercado_libre_project/src/components/breadcrumb/index.tsx'),\n",
       " PosixPath('/Users/manuel.mosquera/Documents/projects/mercado_libre_project/src/components/breadcrumb/breadcrumb.styles.module.scss'),\n",
       " PosixPath('/Users/manuel.mosquera/Documents/projects/mercado_libre_project/src/components/breadcrumb/breadcrumb.test.tsx'),\n",
       " PosixPath('/Users/manuel.mosquera/Documents/projects/mercado_libre_project/src/common/styles/variables.module.scss'),\n",
       " PosixPath('/Users/manuel.mosquera/Documents/projects/mercado_libre_project/src/common/styles/reset.styles.scss'),\n",
       " PosixPath('/Users/manuel.mosquera/Documents/projects/mercado_libre_project/src/common/icons/search.tsx'),\n",
       " PosixPath('/Users/manuel.mosquera/Documents/projects/mercado_libre_project/src/common/icons/types.ts'),\n",
       " PosixPath('/Users/manuel.mosquera/Documents/projects/mercado_libre_project/src/pages/index.tsx'),\n",
       " PosixPath('/Users/manuel.mosquera/Documents/projects/mercado_libre_project/src/pages/items.tsx'),\n",
       " PosixPath('/Users/manuel.mosquera/Documents/projects/mercado_libre_project/src/pages/_document.tsx'),\n",
       " PosixPath('/Users/manuel.mosquera/Documents/projects/mercado_libre_project/src/pages/_app.styles.module.scss'),\n",
       " PosixPath('/Users/manuel.mosquera/Documents/projects/mercado_libre_project/src/pages/_app.tsx'),\n",
       " PosixPath('/Users/manuel.mosquera/Documents/projects/mercado_libre_project/src/pages/api/items.tsx'),\n",
       " PosixPath('/Users/manuel.mosquera/Documents/projects/mercado_libre_project/src/pages/api/items/[id].tsx'),\n",
       " PosixPath('/Users/manuel.mosquera/Documents/projects/mercado_libre_project/src/pages/items/[id].tsx')]"
      ]
     },
     "execution_count": 2,
     "metadata": {},
     "output_type": "execute_result"
    }
   ],
   "source": [
    "import pathlib\n",
    "\n",
    "p = pathlib.Path('/Users/manuel.mosquera/Documents/projects/mercado_libre_project')\n",
    "list(p.glob('src/**/[!.]*.*'))"
   ]
  },
  {
   "cell_type": "code",
   "execution_count": 3,
   "metadata": {},
   "outputs": [],
   "source": [
    "directory_path = '/Users/manuel.mosquera/Documents/projects/mercado_libre_project'\n",
    "loader = DirectoryLoader(directory_path, loader_cls=TextLoader, glob='src/**/[!.]*.*')\n",
    "docs = loader.load()"
   ]
  },
  {
   "cell_type": "code",
   "execution_count": 4,
   "metadata": {},
   "outputs": [
    {
     "data": {
      "text/plain": [
       "24"
      ]
     },
     "execution_count": 4,
     "metadata": {},
     "output_type": "execute_result"
    }
   ],
   "source": [
    "len(docs)"
   ]
  },
  {
   "cell_type": "code",
   "execution_count": 5,
   "metadata": {},
   "outputs": [
    {
     "name": "stdout",
     "output_type": "stream",
     "text": [
      "import { useState, FC, SyntheticEvent } from \"react\";\n",
      "import Image from \"next/image\";\n",
      "import SearchIcon from \"../../common/icons/search\";\n",
      "\n",
      "import styles from \"./searchBar.styles.module.scss\";\n",
      "\n",
      "interface Props {\n",
      "  placeholder?: string;\n",
      "  onClick(val: string): void;\n",
      "}\n",
      "\n",
      "const SearchBar: FC<Props> = ({ placeholder, onClick }) => {\n",
      "  const [search, setSearch] = useState(\"\");\n",
      "\n",
      "  const handleSubmit = (event: SyntheticEvent) => {\n",
      "    event.preventDefault();\n",
      "    onClick(search);\n",
      "  };\n",
      "\n",
      "  return (\n",
      "    <header className={styles.container}>\n",
      "      <Image\n",
      "        data-testid=\"logo\"\n",
      "        src=\"/images/mercado-libre-logo.png\"\n",
      "        alt=\"Mercado libre logo\"\n",
      "        width=\"90\"\n",
      "        height=\"90\"\n",
      "      />\n",
      "      <form\n",
      "        className={styles.searchForm}\n",
      "        onSubmit={handleSubmit}\n",
      "        data-testid=\"form\"\n",
      "      >\n",
      "        <input\n",
      "          className={styles.searchInput}\n",
      "          placeholder={placeholder}\n",
      "          value={search}\n",
      "          onChange={(e) => setSearch(e.target.value)}\n",
      "          data-testid=\"search-input\"\n",
      "        />\n",
      "        <button\n",
      "          className={styles.searchSubmit}\n",
      "          type=\"submit\"\n",
      "          aria-label=\"search\"\n",
      "        >\n",
      "          <SearchIcon />\n",
      "        </button>\n",
      "      </form>\n",
      "    </header>\n",
      "  );\n",
      "};\n",
      "\n",
      "SearchBar.defaultProps = {\n",
      "  placeholder: \"Busca...\",\n",
      "};\n",
      "\n",
      "export default SearchBar;\n",
      "\n"
     ]
    }
   ],
   "source": [
    "print(docs[0].page_content)"
   ]
  },
  {
   "cell_type": "code",
   "execution_count": 6,
   "metadata": {},
   "outputs": [],
   "source": [
    "import re\n",
    "\n",
    "preprocess_docs = [{'file': doc.page_content, 'file_path': re.match(directory_path + r'\\/(.*)', doc.metadata['source']).group(1) } for doc in docs if doc.page_content is not None]"
   ]
  },
  {
   "cell_type": "code",
   "execution_count": 7,
   "metadata": {},
   "outputs": [
    {
     "name": "stdout",
     "output_type": "stream",
     "text": [
      "src/components/searchBar/index.tsx\n",
      "src/components/searchBar/searchBar.test.tsx\n",
      "src/components/searchBar/searchBar.styles.module.scss\n",
      "src/components/productsList/index.tsx\n",
      "src/components/productsList/productsList.styles.module.scss\n",
      "src/components/productsList/productsList.test.tsx\n",
      "src/components/productDetail/index.tsx\n",
      "src/components/productDetail/productDetail.styles.module.scss\n",
      "src/components/productDetail/productDetail.test.tsx\n",
      "src/components/breadcrumb/index.tsx\n",
      "src/components/breadcrumb/breadcrumb.styles.module.scss\n",
      "src/components/breadcrumb/breadcrumb.test.tsx\n",
      "src/common/styles/variables.module.scss\n",
      "src/common/styles/reset.styles.scss\n",
      "src/common/icons/search.tsx\n",
      "src/common/icons/types.ts\n",
      "src/pages/index.tsx\n",
      "src/pages/items.tsx\n",
      "src/pages/_document.tsx\n",
      "src/pages/_app.styles.module.scss\n",
      "src/pages/_app.tsx\n",
      "src/pages/api/items.tsx\n",
      "src/pages/api/items/[id].tsx\n",
      "src/pages/items/[id].tsx\n"
     ]
    }
   ],
   "source": [
    "for p in preprocess_docs:\n",
    "  print(p['file_path'])"
   ]
  },
  {
   "attachments": {},
   "cell_type": "markdown",
   "metadata": {},
   "source": [
    "## Generate a document description"
   ]
  },
  {
   "cell_type": "code",
   "execution_count": 8,
   "metadata": {},
   "outputs": [],
   "source": [
    "from langchain.chat_models import ChatOpenAI"
   ]
  },
  {
   "cell_type": "code",
   "execution_count": 9,
   "metadata": {},
   "outputs": [],
   "source": [
    "from langchain.prompts.prompt import PromptTemplate\n",
    "from langchain.chains.llm import LLMChain\n",
    "\n",
    "prompt_template = \"What is the purpose of the following file in the project?\\nGive me a detailed description of the file \\nfile path: {file_path} \\nfile content: {file}\"\n",
    "\n",
    "llm = ChatOpenAI(temperature=0.7)\n",
    "llm_chain = LLMChain(\n",
    "    llm=llm,\n",
    "    prompt=PromptTemplate.from_template(prompt_template)\n",
    ")\n",
    "files_description = llm_chain.apply(preprocess_docs)"
   ]
  },
  {
   "cell_type": "code",
   "execution_count": 10,
   "metadata": {},
   "outputs": [
    {
     "data": {
      "text/plain": [
       "24"
      ]
     },
     "execution_count": 10,
     "metadata": {},
     "output_type": "execute_result"
    }
   ],
   "source": [
    "len(files_description)"
   ]
  },
  {
   "cell_type": "code",
   "execution_count": 11,
   "metadata": {},
   "outputs": [
    {
     "name": "stdout",
     "output_type": "stream",
     "text": [
      "The purpose of the file \"index.tsx\" in the \"src/components/searchBar\" directory is to define a React functional component for a search bar. \n",
      "\n",
      "The file imports the necessary dependencies, including \"useState\" from React, \"Image\" from Next.js, and a custom \"SearchIcon\" component. It also imports a SCSS module for styling.\n",
      "\n",
      "The component accepts two prop types: \"placeholder\" (an optional string) and \"onClick\" (a function that takes a string parameter and returns void).\n",
      "\n",
      "Inside the component, there is a local state variable \"search\" initialized with an empty string using the \"useState\" hook. The component also defines a \"handleSubmit\" function that calls the \"onClick\" prop with the current value of \"search\" when a form is submitted.\n",
      "\n",
      "The component renders a header container with a Mercado Libre logo image and a search form. The form contains an input field for typing search queries, which is bound to the \"search\" state variable and updates it when the input value changes. There is also a submit button with the \"SearchIcon\" component as its content. When the form is submitted, the \"handleSubmit\" function is called.\n",
      "\n",
      "The component has a default prop value for \"placeholder\" set to \"Busca...\" if it is not provided by the parent component.\n",
      "\n",
      "Finally, the component is exported as the default export of the file, making it available for use in other parts of the project.\n"
     ]
    }
   ],
   "source": [
    "print(files_description[0]['text'])"
   ]
  },
  {
   "attachments": {},
   "cell_type": "markdown",
   "metadata": {},
   "source": [
    "## Create an embedding with the description"
   ]
  },
  {
   "cell_type": "code",
   "execution_count": 12,
   "metadata": {},
   "outputs": [],
   "source": [
    "desciptions_to_embed =  [f'File path: {preprocess_docs[i][\"file_path\"]}\\nFile description: {files_description[i][\"text\"]}' for i in range(len(files_description))]"
   ]
  },
  {
   "cell_type": "code",
   "execution_count": 13,
   "metadata": {},
   "outputs": [
    {
     "name": "stdout",
     "output_type": "stream",
     "text": [
      "File path: src/components/searchBar/index.tsx\n",
      "File description: The purpose of the file \"index.tsx\" in the \"src/components/searchBar\" directory is to define a React functional component for a search bar. \n",
      "\n",
      "The file imports the necessary dependencies, including \"useState\" from React, \"Image\" from Next.js, and a custom \"SearchIcon\" component. It also imports a SCSS module for styling.\n",
      "\n",
      "The component accepts two prop types: \"placeholder\" (an optional string) and \"onClick\" (a function that takes a string parameter and returns void).\n",
      "\n",
      "Inside the component, there is a local state variable \"search\" initialized with an empty string using the \"useState\" hook. The component also defines a \"handleSubmit\" function that calls the \"onClick\" prop with the current value of \"search\" when a form is submitted.\n",
      "\n",
      "The component renders a header container with a Mercado Libre logo image and a search form. The form contains an input field for typing search queries, which is bound to the \"search\" state variable and updates it when the input value changes. There is also a submit button with the \"SearchIcon\" component as its content. When the form is submitted, the \"handleSubmit\" function is called.\n",
      "\n",
      "The component has a default prop value for \"placeholder\" set to \"Busca...\" if it is not provided by the parent component.\n",
      "\n",
      "Finally, the component is exported as the default export of the file, making it available for use in other parts of the project.\n"
     ]
    }
   ],
   "source": [
    "print(desciptions_to_embed[0])"
   ]
  },
  {
   "cell_type": "code",
   "execution_count": 14,
   "metadata": {},
   "outputs": [],
   "source": [
    "embeddings_model = OpenAIEmbeddings()"
   ]
  },
  {
   "cell_type": "code",
   "execution_count": 15,
   "metadata": {},
   "outputs": [],
   "source": [
    "files_vectors = embeddings_model.embed_documents(desciptions_to_embed)"
   ]
  },
  {
   "attachments": {},
   "cell_type": "markdown",
   "metadata": {},
   "source": [
    "## Create the vector store"
   ]
  },
  {
   "cell_type": "code",
   "execution_count": 16,
   "metadata": {},
   "outputs": [],
   "source": [
    "from langchain.vectorstores import Chroma\n",
    "\n",
    "\n",
    "db = Chroma(persist_directory='../vector_db')"
   ]
  },
  {
   "cell_type": "code",
   "execution_count": 46,
   "metadata": {},
   "outputs": [
    {
     "data": {
      "text/plain": [
       "True"
      ]
     },
     "execution_count": 46,
     "metadata": {},
     "output_type": "execute_result"
    }
   ],
   "source": [
    "# db._client.reset()"
   ]
  },
  {
   "cell_type": "code",
   "execution_count": 17,
   "metadata": {},
   "outputs": [],
   "source": [
    "import uuid\n",
    "\n",
    "db._collection.add(embeddings=files_vectors, documents=[doc['file'] for doc in preprocess_docs], metadatas=[{'file_path': doc['file_path']} for doc in preprocess_docs], ids=[str(uuid.uuid1()) for _ in desciptions_to_embed])"
   ]
  },
  {
   "cell_type": "code",
   "execution_count": 18,
   "metadata": {},
   "outputs": [
    {
     "data": {
      "text/plain": [
       "24"
      ]
     },
     "execution_count": 18,
     "metadata": {},
     "output_type": "execute_result"
    }
   ],
   "source": [
    "db._collection.count()"
   ]
  },
  {
   "cell_type": "code",
   "execution_count": 19,
   "metadata": {},
   "outputs": [],
   "source": [
    "db.persist()"
   ]
  },
  {
   "attachments": {},
   "cell_type": "markdown",
   "metadata": {},
   "source": [
    "## Create the steps to solve a task"
   ]
  },
  {
   "cell_type": "code",
   "execution_count": 20,
   "metadata": {},
   "outputs": [],
   "source": [
    "task = \"Add a pagination feature to the items list, listing 4 items per page.\""
   ]
  },
  {
   "cell_type": "code",
   "execution_count": 27,
   "metadata": {},
   "outputs": [],
   "source": [
    "embedded_task = embeddings_model.embed_query(task)\n",
    "most_relevant_docs = db._collection.query(query_embeddings=[embedded_task], n_results=5)"
   ]
  },
  {
   "cell_type": "code",
   "execution_count": 28,
   "metadata": {},
   "outputs": [
    {
     "data": {
      "text/plain": [
       "{'ids': [['f09f5fac-2012-11ee-b997-7af460f92e88',\n",
       "   'f09f60ba-2012-11ee-b997-7af460f92e88',\n",
       "   'f09f5e30-2012-11ee-b997-7af460f92e88',\n",
       "   'f09f60e2-2012-11ee-b997-7af460f92e88',\n",
       "   'f09f5e44-2012-11ee-b997-7af460f92e88']],\n",
       " 'embeddings': None,\n",
       " 'documents': [['import { FC, useCallback } from \"react\";\\nimport { Response, Error } from \"./api/items\";\\nimport Breadcrumb from \"../components/breadcrumb\";\\nimport ProductsList from \"../components/productsList\";\\nimport { server } from \"../../config\";\\nimport { useRouter } from \"next/router\";\\nimport Head from \"next/head\";\\n\\ninterface Props {\\n  data: Response | Error;\\n  search: string;\\n}\\n\\nconst Items: FC<Props> = ({ data, search }) => {\\n  const router = useRouter();\\n\\n  if (\"error\" in data) {\\n    return <h1>There was an error</h1>;\\n  }\\n\\n  const handleClick = useCallback(\\n    (categoryName) => {\\n      const selectedCategory = data.categories_filter.find(\\n        (category) => category.name === categoryName\\n      );\\n      if (selectedCategory) {\\n        router.push(`/items?search=${search}&category=${selectedCategory.id}`);\\n      }\\n    },\\n    [data, router]\\n  );\\n\\n  return (\\n    <>\\n      {search && (\\n        <Head>\\n          <title>{search} | Mercado Libre</title>\\n          <meta\\n            name=\"description\"\\n            content={`Listado de productos para la busqueda: ${search}.`}\\n          />\\n        </Head>\\n      )}\\n      <Breadcrumb items={data.categories} handleClick={handleClick} />\\n      <ProductsList data={data} />\\n    </>\\n  );\\n};\\n\\nexport default Items;\\n\\nexport async function getServerSideProps({ query }) {\\n  const { search, category } = query;\\n  const categoryFilter = category ? `&category=${category}` : \"\";\\n  const res = await fetch(`${server}/api/items?q=${search}${categoryFilter}`);\\n  const data: Promise<Response | Error> = await res.json();\\n\\n  return {\\n    props: {\\n      data,\\n      search,\\n    },\\n  };\\n}\\n',\n",
       "   'export interface Response {\\n  author: {\\n    name: string;\\n    lastname: string;\\n  };\\n  categories: string[];\\n  items: [\\n    {\\n      id: string;\\n      title: string;\\n      price: { currency: string; amount: number; decimals: number };\\n      picture: string;\\n      condition: string;\\n      free_shipping: boolean;\\n    }\\n  ];\\n  categories_filter: [{ id: string; name: string }];\\n}\\n\\nexport interface Error {\\n  error: any;\\n}\\n\\nexport default async function handler(req, res): Promise<Response | Error> {\\n  const search = req.query.q;\\n  const category = req.query.category;\\n  const queryParam = search ? `?q=${search}` : \"\";\\n  const filterParam = category ? `&category=${category}` : \"\";\\n\\n  let data;\\n  try {\\n    const rawResponse = await fetch(\\n      `https://api.mercadolibre.com/sites/MLA/search${queryParam}${filterParam}`\\n    );\\n    data = await rawResponse.json();\\n  } catch (error) {\\n    return res.status(200).json(error);\\n  }\\n  const availableCategories = data.available_filters.find(\\n    (filter) => filter.id === \"category\"\\n  )?.values;\\n  const availableCategoriesNames = availableCategories?.map(\\n    (category) => category.name\\n  );\\n\\n  const resultsCategory = data.filters\\n    .find(({ id }) => id === \"category\")\\n    ?.values.map((category) => category.name);\\n\\n  const parsedData: Response = {\\n    author: {\\n      name: \"Manuel\",\\n      lastname: \"Mosquera\",\\n    },\\n    categories: availableCategoriesNames || resultsCategory || [],\\n    items: data.results.map((item) => ({\\n      id: item.id,\\n      title: item.title,\\n      price: {\\n        currency: item.currency_id,\\n        amount: item.price,\\n        decimals: item.price % 1,\\n      },\\n      picture: item.thumbnail,\\n      condition: item.condition,\\n      free_shipping: item.shipping.free_shipping,\\n    })),\\n    categories_filter: availableCategories || [],\\n  };\\n\\n  res.status(200).json(parsedData);\\n}\\n',\n",
       "   'import { FC } from \"react\";\\nimport styles from \"./productsList.styles.module.scss\";\\nimport { Response } from \"../../pages/api/items\";\\nimport Link from \"next/link\";\\n\\ninterface Props {\\n  data: Response;\\n}\\n\\nconst ProductsList: FC<Props> = ({ data }) => (\\n  <section>\\n    <ul className={styles.itemsList}>\\n      {data.items.slice(0, 4).map((item) => (\\n        <Link href={`/items/${item.id}`} key={`product-${item.id}`}>\\n          <a data-testid={`item-${item.id}`}>\\n            <li className={styles.item}>\\n              <img\\n                src={item.picture}\\n                alt={item.title}\\n                className={styles.itemImg}\\n              />\\n              <div className={styles.itemInfo}>\\n                <span>\\n                  <span className={styles.itemPrice} aria-label=\"price\">\\n                    $ {item.price.amount.toLocaleString(\"en-US\")}\\n                  </span>{\" \"}\\n                  {item.free_shipping && (\\n                    <span className={styles.freeShipping}>Envío gratis</span>\\n                  )}\\n                </span>\\n                <h3 className={styles.itemTitle}>{item.title}</h3>\\n              </div>\\n              <span className={styles.itemCondition}>{item.condition}</span>\\n            </li>\\n          </a>\\n        </Link>\\n      ))}\\n    </ul>\\n  </section>\\n);\\n\\nexport default ProductsList;\\n',\n",
       "   'import { FC } from \"react\";\\nimport { Response, Error } from \"../api/items/[id]\";\\nimport ProductDetail from \"../../components/productDetail\";\\nimport Breadcrumb from \"../../components/breadcrumb\";\\nimport { server } from \"../../../config\";\\nimport Head from \"next/head\";\\n\\ninterface Props {\\n  data: Response | Error;\\n}\\n\\nconst ProductDetailPage: FC<Props> = ({ data }) => {\\n  if (\"error\" in data) {\\n    return <h1>There was an error</h1>;\\n  }\\n\\n  const addProductJsonLd = (item) => {\\n    return {\\n      __html: `{\\n      \"@context\": \"https://schema.org/\",\\n      \"@type\": \"Product\",\\n      \"name\": \"${item.title}\",\\n      \"image\": [\\n        \"${item.picture}\",\\n       ],\\n      \"description\": \"${item.description}\",\\n      \"sku\": \"${item.id}\",\\n      \"offers\": {\\n        \"@type\": \"Offer\",\\n        \"priceCurrency\": \"${item.price.currency}\",\\n        \"price\": \"${item.price.amount}\",\\n        \"itemCondition\": \"${item.condition}\"\\n      }\\n    }\\n  `,\\n    };\\n  };\\n\\n  return (\\n    <>\\n      {data?.item?.title && (\\n        <Head>\\n          <title>{data.item.title} | Mercado Libre</title>\\n          <meta name=\"description\" content={data.item.description} />\\n          <meta property=\"og:title\" content={data.item.title} />\\n          <meta property=\"og:description\" content={data.item.description} />\\n          <meta property=\"og:image\" content={data.item.picture} />\\n          <script\\n            type=\"application/ld+json\"\\n            dangerouslySetInnerHTML={addProductJsonLd(data.item)}\\n            key=\"product-jsonld\"\\n          />\\n        </Head>\\n      )}\\n      <Breadcrumb items={data.item.categories} />\\n      <ProductDetail item={data.item} />\\n    </>\\n  );\\n};\\n\\nexport default ProductDetailPage;\\n\\nexport async function getServerSideProps({ params }) {\\n  const { id } = params;\\n  const res = await fetch(`${server}/api/items/${id}`);\\n  const data = await res.json();\\n\\n  return {\\n    props: {\\n      data,\\n    },\\n  };\\n}\\n',\n",
       "   \"@import '../../common/styles/variables.module.scss';\\n\\n.itemsList {\\n  background-color: #ffffff;\\n  padding: 0;\\n  border-radius: 5px;\\n  margin-bottom: 70px;\\n  list-style-type: none;\\n  & > .item:last-child {\\n    border: none;\\n  }\\n  & a, & a:link, & a:hover,& a:visited {\\n    text-decoration: none;\\n    color: inherit;\\n  }\\n}\\n\\n.item {\\n  display: flex;\\n  padding: 20px;\\n  border-bottom: 1px solid $background-color;\\n  gap: 20px;\\n  cursor: pointer;\\n  @media (max-width: $sm) {\\n    flex-direction: column;\\n    align-items: center;\\n  }\\n}\\n\\n.itemImg {\\n  width: 150px;\\n  height: 150px;\\n  object-fit: cover;\\n}\\n\\n.itemInfo {\\n  flex-grow: 1;\\n}\\n\\n.itemPrice{\\n  font-size: 24px;\\n}\\n\\n.itemTitle {\\n  font-weight: normal;\\n}\\n\\n.itemCondition {\\n  color: $secondary-text;\\n}\\n\\n.freeShipping {\\n  font-size: 14px;\\n  font-weight: 600;\\n  color: $green;\\n  display: block;\\n  margin: 5px 0;\\n}\"]],\n",
       " 'metadatas': [[{'file_path': 'src/pages/items.tsx'},\n",
       "   {'file_path': 'src/pages/api/items.tsx'},\n",
       "   {'file_path': 'src/components/productsList/index.tsx'},\n",
       "   {'file_path': 'src/pages/items/[id].tsx'},\n",
       "   {'file_path': 'src/components/productsList/productsList.styles.module.scss'}]],\n",
       " 'distances': [[0.5110962986946106,\n",
       "   0.5362481474876404,\n",
       "   0.5435344576835632,\n",
       "   0.5672869682312012,\n",
       "   0.571578323841095]]}"
      ]
     },
     "execution_count": 28,
     "metadata": {},
     "output_type": "execute_result"
    }
   ],
   "source": [
    "most_relevant_docs"
   ]
  },
  {
   "cell_type": "code",
   "execution_count": 29,
   "metadata": {},
   "outputs": [],
   "source": [
    "most_relevant_docs = '\\n\\n'.join([f'File_path: {most_relevant_docs[\"metadatas\"][0][i]}\\nFile content: {most_relevant_docs[\"documents\"][0][i]}' for i in range(len(most_relevant_docs['documents'][0]))])"
   ]
  },
  {
   "cell_type": "code",
   "execution_count": 30,
   "metadata": {},
   "outputs": [
    {
     "name": "stdout",
     "output_type": "stream",
     "text": [
      "File_path: {'file_path': 'src/pages/items.tsx'}\n",
      "File content: import { FC, useCallback } from \"react\";\n",
      "import { Response, Error } from \"./api/items\";\n",
      "import Breadcrumb from \"../components/breadcrumb\";\n",
      "import ProductsList from \"../components/productsList\";\n",
      "import { server } from \"../../config\";\n",
      "import { useRouter } from \"next/router\";\n",
      "import Head from \"next/head\";\n",
      "\n",
      "interface Props {\n",
      "  data: Response | Error;\n",
      "  search: string;\n",
      "}\n",
      "\n",
      "const Items: FC<Props> = ({ data, search }) => {\n",
      "  const router = useRouter();\n",
      "\n",
      "  if (\"error\" in data) {\n",
      "    return <h1>There was an error</h1>;\n",
      "  }\n",
      "\n",
      "  const handleClick = useCallback(\n",
      "    (categoryName) => {\n",
      "      const selectedCategory = data.categories_filter.find(\n",
      "        (category) => category.name === categoryName\n",
      "      );\n",
      "      if (selectedCategory) {\n",
      "        router.push(`/items?search=${search}&category=${selectedCategory.id}`);\n",
      "      }\n",
      "    },\n",
      "    [data, router]\n",
      "  );\n",
      "\n",
      "  return (\n",
      "    <>\n",
      "      {search && (\n",
      "        <Head>\n",
      "          <title>{search} | Mercado Libre</title>\n",
      "          <meta\n",
      "            name=\"description\"\n",
      "            content={`Listado de productos para la busqueda: ${search}.`}\n",
      "          />\n",
      "        </Head>\n",
      "      )}\n",
      "      <Breadcrumb items={data.categories} handleClick={handleClick} />\n",
      "      <ProductsList data={data} />\n",
      "    </>\n",
      "  );\n",
      "};\n",
      "\n",
      "export default Items;\n",
      "\n",
      "export async function getServerSideProps({ query }) {\n",
      "  const { search, category } = query;\n",
      "  const categoryFilter = category ? `&category=${category}` : \"\";\n",
      "  const res = await fetch(`${server}/api/items?q=${search}${categoryFilter}`);\n",
      "  const data: Promise<Response | Error> = await res.json();\n",
      "\n",
      "  return {\n",
      "    props: {\n",
      "      data,\n",
      "      search,\n",
      "    },\n",
      "  };\n",
      "}\n",
      "\n",
      "\n",
      "File_path: {'file_path': 'src/pages/api/items.tsx'}\n",
      "File content: export interface Response {\n",
      "  author: {\n",
      "    name: string;\n",
      "    lastname: string;\n",
      "  };\n",
      "  categories: string[];\n",
      "  items: [\n",
      "    {\n",
      "      id: string;\n",
      "      title: string;\n",
      "      price: { currency: string; amount: number; decimals: number };\n",
      "      picture: string;\n",
      "      condition: string;\n",
      "      free_shipping: boolean;\n",
      "    }\n",
      "  ];\n",
      "  categories_filter: [{ id: string; name: string }];\n",
      "}\n",
      "\n",
      "export interface Error {\n",
      "  error: any;\n",
      "}\n",
      "\n",
      "export default async function handler(req, res): Promise<Response | Error> {\n",
      "  const search = req.query.q;\n",
      "  const category = req.query.category;\n",
      "  const queryParam = search ? `?q=${search}` : \"\";\n",
      "  const filterParam = category ? `&category=${category}` : \"\";\n",
      "\n",
      "  let data;\n",
      "  try {\n",
      "    const rawResponse = await fetch(\n",
      "      `https://api.mercadolibre.com/sites/MLA/search${queryParam}${filterParam}`\n",
      "    );\n",
      "    data = await rawResponse.json();\n",
      "  } catch (error) {\n",
      "    return res.status(200).json(error);\n",
      "  }\n",
      "  const availableCategories = data.available_filters.find(\n",
      "    (filter) => filter.id === \"category\"\n",
      "  )?.values;\n",
      "  const availableCategoriesNames = availableCategories?.map(\n",
      "    (category) => category.name\n",
      "  );\n",
      "\n",
      "  const resultsCategory = data.filters\n",
      "    .find(({ id }) => id === \"category\")\n",
      "    ?.values.map((category) => category.name);\n",
      "\n",
      "  const parsedData: Response = {\n",
      "    author: {\n",
      "      name: \"Manuel\",\n",
      "      lastname: \"Mosquera\",\n",
      "    },\n",
      "    categories: availableCategoriesNames || resultsCategory || [],\n",
      "    items: data.results.map((item) => ({\n",
      "      id: item.id,\n",
      "      title: item.title,\n",
      "      price: {\n",
      "        currency: item.currency_id,\n",
      "        amount: item.price,\n",
      "        decimals: item.price % 1,\n",
      "      },\n",
      "      picture: item.thumbnail,\n",
      "      condition: item.condition,\n",
      "      free_shipping: item.shipping.free_shipping,\n",
      "    })),\n",
      "    categories_filter: availableCategories || [],\n",
      "  };\n",
      "\n",
      "  res.status(200).json(parsedData);\n",
      "}\n",
      "\n",
      "\n",
      "File_path: {'file_path': 'src/components/productsList/index.tsx'}\n",
      "File content: import { FC } from \"react\";\n",
      "import styles from \"./productsList.styles.module.scss\";\n",
      "import { Response } from \"../../pages/api/items\";\n",
      "import Link from \"next/link\";\n",
      "\n",
      "interface Props {\n",
      "  data: Response;\n",
      "}\n",
      "\n",
      "const ProductsList: FC<Props> = ({ data }) => (\n",
      "  <section>\n",
      "    <ul className={styles.itemsList}>\n",
      "      {data.items.slice(0, 4).map((item) => (\n",
      "        <Link href={`/items/${item.id}`} key={`product-${item.id}`}>\n",
      "          <a data-testid={`item-${item.id}`}>\n",
      "            <li className={styles.item}>\n",
      "              <img\n",
      "                src={item.picture}\n",
      "                alt={item.title}\n",
      "                className={styles.itemImg}\n",
      "              />\n",
      "              <div className={styles.itemInfo}>\n",
      "                <span>\n",
      "                  <span className={styles.itemPrice} aria-label=\"price\">\n",
      "                    $ {item.price.amount.toLocaleString(\"en-US\")}\n",
      "                  </span>{\" \"}\n",
      "                  {item.free_shipping && (\n",
      "                    <span className={styles.freeShipping}>Envío gratis</span>\n",
      "                  )}\n",
      "                </span>\n",
      "                <h3 className={styles.itemTitle}>{item.title}</h3>\n",
      "              </div>\n",
      "              <span className={styles.itemCondition}>{item.condition}</span>\n",
      "            </li>\n",
      "          </a>\n",
      "        </Link>\n",
      "      ))}\n",
      "    </ul>\n",
      "  </section>\n",
      ");\n",
      "\n",
      "export default ProductsList;\n",
      "\n",
      "\n",
      "File_path: {'file_path': 'src/pages/items/[id].tsx'}\n",
      "File content: import { FC } from \"react\";\n",
      "import { Response, Error } from \"../api/items/[id]\";\n",
      "import ProductDetail from \"../../components/productDetail\";\n",
      "import Breadcrumb from \"../../components/breadcrumb\";\n",
      "import { server } from \"../../../config\";\n",
      "import Head from \"next/head\";\n",
      "\n",
      "interface Props {\n",
      "  data: Response | Error;\n",
      "}\n",
      "\n",
      "const ProductDetailPage: FC<Props> = ({ data }) => {\n",
      "  if (\"error\" in data) {\n",
      "    return <h1>There was an error</h1>;\n",
      "  }\n",
      "\n",
      "  const addProductJsonLd = (item) => {\n",
      "    return {\n",
      "      __html: `{\n",
      "      \"@context\": \"https://schema.org/\",\n",
      "      \"@type\": \"Product\",\n",
      "      \"name\": \"${item.title}\",\n",
      "      \"image\": [\n",
      "        \"${item.picture}\",\n",
      "       ],\n",
      "      \"description\": \"${item.description}\",\n",
      "      \"sku\": \"${item.id}\",\n",
      "      \"offers\": {\n",
      "        \"@type\": \"Offer\",\n",
      "        \"priceCurrency\": \"${item.price.currency}\",\n",
      "        \"price\": \"${item.price.amount}\",\n",
      "        \"itemCondition\": \"${item.condition}\"\n",
      "      }\n",
      "    }\n",
      "  `,\n",
      "    };\n",
      "  };\n",
      "\n",
      "  return (\n",
      "    <>\n",
      "      {data?.item?.title && (\n",
      "        <Head>\n",
      "          <title>{data.item.title} | Mercado Libre</title>\n",
      "          <meta name=\"description\" content={data.item.description} />\n",
      "          <meta property=\"og:title\" content={data.item.title} />\n",
      "          <meta property=\"og:description\" content={data.item.description} />\n",
      "          <meta property=\"og:image\" content={data.item.picture} />\n",
      "          <script\n",
      "            type=\"application/ld+json\"\n",
      "            dangerouslySetInnerHTML={addProductJsonLd(data.item)}\n",
      "            key=\"product-jsonld\"\n",
      "          />\n",
      "        </Head>\n",
      "      )}\n",
      "      <Breadcrumb items={data.item.categories} />\n",
      "      <ProductDetail item={data.item} />\n",
      "    </>\n",
      "  );\n",
      "};\n",
      "\n",
      "export default ProductDetailPage;\n",
      "\n",
      "export async function getServerSideProps({ params }) {\n",
      "  const { id } = params;\n",
      "  const res = await fetch(`${server}/api/items/${id}`);\n",
      "  const data = await res.json();\n",
      "\n",
      "  return {\n",
      "    props: {\n",
      "      data,\n",
      "    },\n",
      "  };\n",
      "}\n",
      "\n",
      "\n",
      "File_path: {'file_path': 'src/components/productsList/productsList.styles.module.scss'}\n",
      "File content: @import '../../common/styles/variables.module.scss';\n",
      "\n",
      ".itemsList {\n",
      "  background-color: #ffffff;\n",
      "  padding: 0;\n",
      "  border-radius: 5px;\n",
      "  margin-bottom: 70px;\n",
      "  list-style-type: none;\n",
      "  & > .item:last-child {\n",
      "    border: none;\n",
      "  }\n",
      "  & a, & a:link, & a:hover,& a:visited {\n",
      "    text-decoration: none;\n",
      "    color: inherit;\n",
      "  }\n",
      "}\n",
      "\n",
      ".item {\n",
      "  display: flex;\n",
      "  padding: 20px;\n",
      "  border-bottom: 1px solid $background-color;\n",
      "  gap: 20px;\n",
      "  cursor: pointer;\n",
      "  @media (max-width: $sm) {\n",
      "    flex-direction: column;\n",
      "    align-items: center;\n",
      "  }\n",
      "}\n",
      "\n",
      ".itemImg {\n",
      "  width: 150px;\n",
      "  height: 150px;\n",
      "  object-fit: cover;\n",
      "}\n",
      "\n",
      ".itemInfo {\n",
      "  flex-grow: 1;\n",
      "}\n",
      "\n",
      ".itemPrice{\n",
      "  font-size: 24px;\n",
      "}\n",
      "\n",
      ".itemTitle {\n",
      "  font-weight: normal;\n",
      "}\n",
      "\n",
      ".itemCondition {\n",
      "  color: $secondary-text;\n",
      "}\n",
      "\n",
      ".freeShipping {\n",
      "  font-size: 14px;\n",
      "  font-weight: 600;\n",
      "  color: $green;\n",
      "  display: block;\n",
      "  margin: 5px 0;\n",
      "}\n"
     ]
    }
   ],
   "source": [
    "print(most_relevant_docs)"
   ]
  },
  {
   "cell_type": "code",
   "execution_count": 31,
   "metadata": {},
   "outputs": [],
   "source": [
    "import openai\n",
    "import os\n",
    "\n",
    "# Load your API key from an environment variable or secret management service\n",
    "openai.api_key = os.getenv(\"OPENAI_API_KEY\")"
   ]
  },
  {
   "cell_type": "code",
   "execution_count": 32,
   "metadata": {},
   "outputs": [],
   "source": [
    "chat_plan = openai.ChatCompletion.create(model=\"gpt-3.5-turbo\", messages=[{\"role\": \"user\", \"content\": f\"Give me a detailed description of how I can accomplish the following task: {task}. This is the content of some files of the project: {most_relevant_docs}\"}])"
   ]
  },
  {
   "cell_type": "code",
   "execution_count": 33,
   "metadata": {},
   "outputs": [
    {
     "name": "stdout",
     "output_type": "stream",
     "text": [
      "To add a pagination feature to the items list, listing 4 items per page, you can follow these steps:\n",
      "\n",
      "1. Modify the `Items` component in the `src/pages/items.tsx` file to include state variables for the current page and the total number of pages. Also, modify the `ProductsList` component to accept the current page as a prop.\n",
      "\n",
      "```jsx\n",
      "import { FC, useCallback, useState } from \"react\";\n",
      "import { Response, Error } from \"./api/items\";\n",
      "import Breadcrumb from \"../components/breadcrumb\";\n",
      "import ProductsList from \"../components/productsList\";\n",
      "import { server } from \"../../config\";\n",
      "import { useRouter } from \"next/router\";\n",
      "import Head from \"next/head\";\n",
      "\n",
      "interface Props {\n",
      "  data: Response | Error;\n",
      "  search: string;\n",
      "}\n",
      "\n",
      "const Items: FC<Props> = ({ data, search }) => {\n",
      "  const router = useRouter();\n",
      "  const [currentPage, setCurrentPage] = useState(1);\n",
      "  const itemsPerPage = 4;\n",
      "\n",
      "  if (\"error\" in data) {\n",
      "    return <h1>There was an error</h1>;\n",
      "  }\n",
      "\n",
      "  const handleClick = useCallback(\n",
      "    (categoryName) => {\n",
      "      const selectedCategory = data.categories_filter.find(\n",
      "        (category) => category.name === categoryName\n",
      "      );\n",
      "      if (selectedCategory) {\n",
      "        router.push(`/items?search=${search}&category=${selectedCategory.id}`);\n",
      "      }\n",
      "    },\n",
      "    [data, router]\n",
      "  );\n",
      "\n",
      "  const handlePageChange = useCallback((page) => {\n",
      "    setCurrentPage(page);\n",
      "  }, []);\n",
      "\n",
      "  const startIndex = (currentPage - 1) * itemsPerPage;\n",
      "  const endIndex = startIndex + itemsPerPage;\n",
      "\n",
      "  const paginatedItems = data.items.slice(startIndex, endIndex);\n",
      "\n",
      "  const totalPages = Math.ceil(data.items.length / itemsPerPage);\n",
      "\n",
      "  return (\n",
      "    <>\n",
      "      {search && (\n",
      "        <Head>\n",
      "          <title>{search} | Mercado Libre</title>\n",
      "          <meta\n",
      "            name=\"description\"\n",
      "            content={`Listado de productos para la busqueda: ${search}.`}\n",
      "          />\n",
      "        </Head>\n",
      "      )}\n",
      "      <Breadcrumb items={data.categories} handleClick={handleClick} />\n",
      "      <ProductsList data={paginatedItems} currentPage={currentPage} totalPages={totalPages} onPageChange={handlePageChange} />\n",
      "    </>\n",
      "  );\n",
      "};\n",
      "\n",
      "export default Items;\n",
      "```\n",
      "\n",
      "2. Modify the `ProductsList` component in the `src/components/productsList/index.tsx` file to include pagination controls and update the component to receive the `currentPage`, `totalPages`, and `onPageChange` as props. Also, update the `.map` function to use the `data` prop as items data.\n",
      "\n",
      "```jsx\n",
      "import { FC } from \"react\";\n",
      "import styles from \"./productsList.styles.module.scss\";\n",
      "import { Response } from \"../../pages/api/items\";\n",
      "import Link from \"next/link\";\n",
      "\n",
      "interface Props {\n",
      "  data: Response[\"items\"];\n",
      "  currentPage: number;\n",
      "  totalPages: number;\n",
      "  onPageChange: (page: number) => void;\n",
      "}\n",
      "\n",
      "const ProductsList: FC<Props> = ({ data, currentPage, totalPages, onPageChange }) => (\n",
      "  <section>\n",
      "    <ul className={styles.itemsList}>\n",
      "      {data.map((item) => (\n",
      "        <Link href={`/items/${item.id}`} key={`product-${item.id}`}>\n",
      "          <a data-testid={`item-${item.id}`}>\n",
      "            <li className={styles.item}>\n",
      "              <img\n",
      "                src={item.picture}\n",
      "                alt={item.title}\n",
      "                className={styles.itemImg}\n",
      "              />\n",
      "              <div className={styles.itemInfo}>\n",
      "                <span>\n",
      "                  <span className={styles.itemPrice} aria-label=\"price\">\n",
      "                    $ {item.price.amount.toLocaleString(\"en-US\")}\n",
      "                  </span>{\" \"}\n",
      "                  {item.free_shipping && (\n",
      "                    <span className={styles.freeShipping}>Envío gratis</span>\n",
      "                  )}\n",
      "                </span>\n",
      "                <h3 className={styles.itemTitle}>{item.title}</h3>\n",
      "              </div>\n",
      "              <span className={styles.itemCondition}>{item.condition}</span>\n",
      "            </li>\n",
      "          </a>\n",
      "        </Link>\n",
      "      ))}\n",
      "    </ul>\n",
      "    <div className={styles.pagination}>\n",
      "      <button\n",
      "        disabled={currentPage === 1}\n",
      "        onClick={() => onPageChange(currentPage - 1)}\n",
      "      >\n",
      "        Previous\n",
      "      </button>\n",
      "      <span>{currentPage}</span>\n",
      "      <button\n",
      "        disabled={currentPage === totalPages}\n",
      "        onClick={() => onPageChange(currentPage + 1)}\n",
      "      >\n",
      "        Next\n",
      "      </button>\n",
      "    </div>\n",
      "  </section>\n",
      ");\n",
      "\n",
      "export default ProductsList;\n",
      "```\n",
      "\n",
      "3. Update the `getServerSideProps` function in the `src/pages/items.tsx` file to fetch the total number of items and include it in the response.\n",
      "\n",
      "```jsx\n",
      "export async function getServerSideProps({ query }) {\n",
      "  const { search, category } = query;\n",
      "  const categoryFilter = category ? `&category=${category}` : \"\";\n",
      "  const res = await fetch(`${server}/api/items?q=${search}${categoryFilter}`);\n",
      "  const data: Promise<Response | Error> = await res.json();\n",
      "  const totalItems = data.items.length;\n",
      "\n",
      "  return {\n",
      "    props: {\n",
      "      data,\n",
      "      search,\n",
      "      totalItems,\n",
      "    },\n",
      "  };\n",
      "}\n",
      "```\n",
      "\n",
      "4. Update the `handler` function in the `src/pages/api/items.tsx` file to include a `limit` query parameter to retrieve the specified number of items per page.\n",
      "\n",
      "```jsx\n",
      "export default async function handler(req, res): Promise<Response | Error> {\n",
      "  const search = req.query.q;\n",
      "  const category = req.query.category;\n",
      "  const queryParam = search ? `?q=${search}` : \"\";\n",
      "  const filterParam = category ? `&category=${category}` : \"\";\n",
      "  const limitParam = req.query.limit ? `&limit=${req.query.limit}` : \"\";\n",
      "\n",
      "  let data;\n",
      "  try {\n",
      "    const rawResponse = await fetch(\n",
      "      `https://api.mercadolibre.com/sites/MLA/search${queryParam}${filterParam}${limitParam}`\n",
      "    );\n",
      "    data = await rawResponse.json();\n",
      "  } catch (error) {\n",
      "    return res.status(200).json(error);\n",
      "  }\n",
      "  const availableCategories = data.available_filters.find(\n",
      "    (filter) => filter.id === \"category\"\n",
      "  )?.values;\n",
      "  const availableCategoriesNames = availableCategories?.map(\n",
      "    (category) => category.name\n",
      "  );\n",
      "\n",
      "  const resultsCategory = data.filters\n",
      "    .find(({ id }) => id === \"category\")\n",
      "    ?.values.map((category) => category.name);\n",
      "\n",
      "  const parsedData: Response = {\n",
      "    author: {\n",
      "      name: \"Manuel\",\n",
      "      lastname: \"Mosquera\",\n",
      "    },\n",
      "    categories: availableCategoriesNames || resultsCategory || [],\n",
      "    items: data.results.map((item) => ({\n",
      "      id: item.id,\n",
      "      title: item.title,\n",
      "      price: {\n",
      "        currency: item.currency_id,\n",
      "        amount: item.price,\n",
      "        decimals: item.price % 1,\n",
      "      },\n",
      "      picture: item.thumbnail,\n",
      "      condition: item.condition,\n",
      "      free_shipping: item.shipping.free_shipping,\n",
      "    })),\n",
      "    categories_filter: availableCategories || [],\n",
      "  };\n",
      "\n",
      "  res.status(200).json(parsedData);\n",
      "}\n",
      "```\n",
      "\n",
      "With these modifications, the items list will now be paginated, showing 4 items per page. The pagination controls will allow the user to navigate to the previous and next pages.\n"
     ]
    }
   ],
   "source": [
    "print(chat_plan.choices[0].message.content)"
   ]
  },
  {
   "cell_type": "code",
   "execution_count": null,
   "metadata": {},
   "outputs": [],
   "source": []
  }
 ],
 "metadata": {
  "kernelspec": {
   "display_name": "venv",
   "language": "python",
   "name": "python3"
  },
  "language_info": {
   "codemirror_mode": {
    "name": "ipython",
    "version": 3
   },
   "file_extension": ".py",
   "mimetype": "text/x-python",
   "name": "python",
   "nbconvert_exporter": "python",
   "pygments_lexer": "ipython3",
   "version": "3.10.6"
  },
  "orig_nbformat": 4
 },
 "nbformat": 4,
 "nbformat_minor": 2
}
